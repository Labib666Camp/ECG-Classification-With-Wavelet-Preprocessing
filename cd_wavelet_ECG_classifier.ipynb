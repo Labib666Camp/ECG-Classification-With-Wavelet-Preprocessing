{
  "nbformat": 4,
  "nbformat_minor": 0,
  "metadata": {
    "colab": {
      "name": "cd wavelet ECG classifier",
      "provenance": [],
      "collapsed_sections": [],
      "mount_file_id": "1XDidbaPJ_zBtVhwDvWuUgJElRUX85oBz",
      "authorship_tag": "ABX9TyOVk1B+RsMYQ9llDqMLrBs0",
      "include_colab_link": true
    },
    "kernelspec": {
      "name": "python3",
      "display_name": "Python 3"
    },
    "accelerator": "GPU"
  },
  "cells": [
    {
      "cell_type": "markdown",
      "metadata": {
        "id": "view-in-github",
        "colab_type": "text"
      },
      "source": [
        "<a href=\"https://colab.research.google.com/github/Labib666Camp/ECG-Classification-With-Wavelet-Preprocessing/blob/master/cd_wavelet_ECG_classifier.ipynb\" target=\"_parent\"><img src=\"https://colab.research.google.com/assets/colab-badge.svg\" alt=\"Open In Colab\"/></a>"
      ]
    },
    {
      "cell_type": "markdown",
      "metadata": {
        "id": "wmc2yp2vS11-",
        "colab_type": "text"
      },
      "source": [
        "Here, I am using the MITBh ECG dataset. It can be found in the link given in the readme file.\n"
      ]
    },
    {
      "cell_type": "code",
      "metadata": {
        "id": "rLq1bXAMp53N",
        "colab_type": "code",
        "colab": {}
      },
      "source": [
        "import pandas as pd\n",
        "df1 = pd.read_csv('/content/drive/My Drive/mitbih_train.csv')\n",
        "df2 = pd.read_csv('/content/drive/My Drive/mitbih_test.csv')"
      ],
      "execution_count": null,
      "outputs": []
    },
    {
      "cell_type": "markdown",
      "metadata": {
        "id": "_BlKkbCPTIP-",
        "colab_type": "text"
      },
      "source": [
        "Checking the number of columns and resrating their datatype as string, also renaming the columns neumerically in an ascending order\n"
      ]
    },
    {
      "cell_type": "code",
      "metadata": {
        "id": "NZhmJMatjgsO",
        "colab_type": "code",
        "colab": {
          "base_uri": "https://localhost:8080/",
          "height": 111
        },
        "outputId": "40c4e5db-e475-4418-e08b-0160fc062099"
      },
      "source": [
        "new_cols = []\n",
        "_, y = df1.shape\n",
        "for i in range(y):\n",
        "  new_cols.append(i)\n",
        "df1.columns = new_cols\n",
        "df2.columns = new_cols\n",
        "df2.columns = df2.columns.astype('str')\n",
        "df1.columns = df1.columns.astype('str')\n",
        "data = pd.concat([df1, df2], axis=0)\n",
        "\n",
        "data.info()"
      ],
      "execution_count": null,
      "outputs": [
        {
          "output_type": "stream",
          "text": [
            "<class 'pandas.core.frame.DataFrame'>\n",
            "Int64Index: 109444 entries, 0 to 21890\n",
            "Columns: 188 entries, 0 to 187\n",
            "dtypes: float64(188)\n",
            "memory usage: 157.8 MB\n"
          ],
          "name": "stdout"
        }
      ]
    },
    {
      "cell_type": "markdown",
      "metadata": {
        "id": "i1RXWm5NTeDd",
        "colab_type": "text"
      },
      "source": [
        "Quantifying the classes in the dataset "
      ]
    },
    {
      "cell_type": "code",
      "metadata": {
        "id": "zA_bg4w1jkom",
        "colab_type": "code",
        "colab": {
          "base_uri": "https://localhost:8080/",
          "height": 148
        },
        "outputId": "a26525d1-a51c-4d33-c1e5-3cf190106eeb"
      },
      "source": [
        "equilibre = data['187'].value_counts()\n",
        "print(equilibre)\n",
        "data.shape"
      ],
      "execution_count": null,
      "outputs": [
        {
          "output_type": "stream",
          "text": [
            "0.0    90587\n",
            "4.0     8039\n",
            "2.0     7236\n",
            "1.0     2779\n",
            "3.0      803\n",
            "Name: 187, dtype: int64\n"
          ],
          "name": "stdout"
        },
        {
          "output_type": "execute_result",
          "data": {
            "text/plain": [
              "(109444, 188)"
            ]
          },
          "metadata": {
            "tags": []
          },
          "execution_count": 3
        }
      ]
    },
    {
      "cell_type": "markdown",
      "metadata": {
        "id": "26Q4phV4WZZO",
        "colab_type": "text"
      },
      "source": [
        "Using SMOTE(Synthetic Minority Oversampling Technique) to balance out the classes"
      ]
    },
    {
      "cell_type": "code",
      "metadata": {
        "id": "sOcZVv6Ujnd3",
        "colab_type": "code",
        "colab": {}
      },
      "source": [
        "import matplotlib.pyplot as plt\n",
        "from collections import Counter\n",
        "from imblearn.over_sampling import SMOTE\n",
        "import numpy as np\n",
        "\n",
        "counter = Counter(data['187'])\n",
        "print(counter)\n",
        "\n",
        "data_y = data['187']\n",
        "data_x = data.drop(columns='187')\n",
        "\n",
        "oversample = SMOTE()\n",
        "\n",
        "data_x, data_y = oversample.fit_resample(data_x,data_y)\n",
        "print(Counter(data_y))"
      ],
      "execution_count": null,
      "outputs": []
    },
    {
      "cell_type": "markdown",
      "metadata": {
        "id": "d1rv6XhnWyEk",
        "colab_type": "text"
      },
      "source": [
        "Executing \"haar\" wavelet transform on the instances of the dataset. I took the Direct Coefficients and made a list out of it, which later was used as the training data for the network"
      ]
    },
    {
      "cell_type": "code",
      "metadata": {
        "id": "X__-r4y2j6me",
        "colab_type": "code",
        "colab": {
          "base_uri": "https://localhost:8080/",
          "height": 299
        },
        "outputId": "08eda63c-b9d3-4e83-b9e6-f0aecea9e677"
      },
      "source": [
        "import pywt\n",
        "import numpy as np\n",
        "import pandas as pd\n",
        "data_x = pd.DataFrame(data_x)\n",
        "len = data_x.shape[0]\n",
        "ca_data_x = []\n",
        "cd_data_x = []\n",
        "\n",
        "for i in range(len):\n",
        "  cA, cD = pywt.dwt(data_x.iloc[i], 'haar')\n",
        "  cA = np.array(cA)\n",
        "  cD = np.array(cD)\n",
        "  cd_data_x.append(cD)\n",
        "  ca_data_x.append(cA)\n",
        "\n",
        "cd_data_x = np.array(cd_data_x)\n",
        "ca_data_x = np.array(ca_data_x)\n",
        "cd_data_x = pd.DataFrame(cd_data_x)\n",
        "ca_data_x = pd.DataFrame(ca_data_x)\n",
        "cd_data_x.head\n",
        "\n"
      ],
      "execution_count": null,
      "outputs": [
        {
          "output_type": "execute_result",
          "data": {
            "text/plain": [
              "<bound method NDFrame.head of               0         1         2         3   ...   90   91   92   93\n",
              "0       0.068495  0.187353 -0.022160  0.008058  ...  0.0  0.0  0.0  0.0\n",
              "1       0.240799  0.082177  0.007644  0.009555  ...  0.0  0.0  0.0  0.0\n",
              "2       0.183613  0.187520  0.083993  0.007813  ...  0.0  0.0  0.0  0.0\n",
              "3      -0.023238  0.172627  0.076354  0.039837  ...  0.0  0.0  0.0  0.0\n",
              "4      -0.051293  0.306535  0.015876 -0.007328  ...  0.0  0.0  0.0  0.0\n",
              "...          ...       ...       ...       ...  ...  ...  ...  ...  ...\n",
              "452930  0.054760  0.006227  0.032022  0.039276  ...  0.0  0.0  0.0  0.0\n",
              "452931  0.119555  0.015241  0.027210  0.034213  ...  0.0  0.0  0.0  0.0\n",
              "452932  0.082201  0.092163  0.066591  0.018994  ...  0.0  0.0  0.0  0.0\n",
              "452933  0.300276  0.025410  0.030119  0.056741  ...  0.0  0.0  0.0  0.0\n",
              "452934  0.031580  0.044020  0.073951  0.086410  ...  0.0  0.0  0.0  0.0\n",
              "\n",
              "[452935 rows x 94 columns]>"
            ]
          },
          "metadata": {
            "tags": []
          },
          "execution_count": 14
        }
      ]
    },
    {
      "cell_type": "markdown",
      "metadata": {
        "id": "b2x2VfgjXTqy",
        "colab_type": "text"
      },
      "source": [
        "Spliting the data between Train and validation sets"
      ]
    },
    {
      "cell_type": "code",
      "metadata": {
        "id": "6ZRvasWYsEXj",
        "colab_type": "code",
        "colab": {
          "base_uri": "https://localhost:8080/",
          "height": 36
        },
        "outputId": "f931e340-d60b-42f0-cb0a-8ee114819aa0"
      },
      "source": [
        "from sklearn.model_selection import train_test_split\n",
        "import numpy as np\n",
        "\n",
        "cd_train_x, cd_valid_x, train_y, valid_y = train_test_split(cd_data_x, data_y, test_size=0.33, shuffle=True)\n",
        "cd_train_x = np.expand_dims(cd_train_x,2)\n",
        "cd_valid_x = np.expand_dims(cd_valid_x,2)\n",
        "from sklearn.preprocessing import OneHotEncoder\n",
        "ohe = OneHotEncoder()\n",
        "train_y = ohe.fit_transform(train_y.reshape(-1,1))\n",
        "valid_y = ohe.transform(valid_y.reshape(-1,1))\n",
        "\n",
        "train_y = train_y.toarray()\n",
        "valid_y = valid_y.toarray()\n",
        "\n",
        "cd_train_x.shape"
      ],
      "execution_count": null,
      "outputs": [
        {
          "output_type": "execute_result",
          "data": {
            "text/plain": [
              "(303466, 94, 1)"
            ]
          },
          "metadata": {
            "tags": []
          },
          "execution_count": 17
        }
      ]
    },
    {
      "cell_type": "code",
      "metadata": {
        "id": "BDQRAynblPOZ",
        "colab_type": "code",
        "colab": {}
      },
      "source": [
        "from keras import Sequential, Input, Model\n",
        "from keras.layers import Conv1D, Dense, Activation, BatchNormalization, Dropout, Flatten"
      ],
      "execution_count": null,
      "outputs": []
    },
    {
      "cell_type": "markdown",
      "metadata": {
        "id": "hgrmkqEfXcAL",
        "colab_type": "text"
      },
      "source": [
        "Building the network using keras "
      ]
    },
    {
      "cell_type": "code",
      "metadata": {
        "id": "80FKZGENktZq",
        "colab_type": "code",
        "colab": {
          "base_uri": "https://localhost:8080/",
          "height": 562
        },
        "outputId": "286789dd-369d-4876-d3ea-f75e05402750"
      },
      "source": [
        "input_shape = (94,1)\n",
        "input_data = Input(shape=input_shape, name='input_data')\n",
        "print(input_data.shape)\n",
        "cn1 = Conv1D(64,(5),strides=1, activation=\"relu\", input_shape=input_shape)(input_data)\n",
        "print(cn1.shape)\n",
        "cn1 = BatchNormalization()(cn1)\n",
        "\n",
        "cn2 = Conv1D(64,(5),strides=1, activation=\"relu\")(cn1)\n",
        "print(cn2.shape)\n",
        "cn2 = BatchNormalization()(cn2)\n",
        "\n",
        "cn3 = Conv1D(64,(5),strides=1, activation=\"relu\")(cn2)\n",
        "print(cn3.shape)\n",
        "cn3 = BatchNormalization()(cn3)\n",
        "\n",
        "flat = Flatten()(cn3)\n",
        "print(flat.shape)\n",
        "d1 = Dense(64, activation=\"relu\")(flat)\n",
        "print(d1.shape)\n",
        "d2 = Dense(32, activation=\"relu\")(d1)\n",
        "print(d2.shape)\n",
        "output_d3 = Dense(5, activation=\"softmax\", name='d3')(d2)\n",
        "print(output_d3.shape)\n",
        "#assert output_d3.output_shape == (None,5)\n",
        "\n",
        "model = Model(inputs=input_data, outputs=output_d3)\n",
        "assert model.output_shape == (None,5)\n",
        "\n",
        "model.compile(optimizer='adam', loss='categorical_crossentropy',metrics = ['accuracy'])\n",
        "history = model.fit(cd_train_x, train_y, epochs=10, batch_size=32, validation_data=(cd_valid_x,valid_y))\n"
      ],
      "execution_count": null,
      "outputs": [
        {
          "output_type": "stream",
          "text": [
            "(None, 94, 1)\n",
            "(None, 90, 64)\n",
            "(None, 86, 64)\n",
            "(None, 82, 64)\n",
            "(None, 5248)\n",
            "(None, 64)\n",
            "(None, 32)\n",
            "(None, 5)\n",
            "Epoch 1/10\n",
            "9484/9484 [==============================] - 56s 6ms/step - loss: 0.1217 - accuracy: 0.9585 - val_loss: 0.3334 - val_accuracy: 0.8867\n",
            "Epoch 2/10\n",
            "9484/9484 [==============================] - 55s 6ms/step - loss: 0.0419 - accuracy: 0.9864 - val_loss: 0.0426 - val_accuracy: 0.9863\n",
            "Epoch 3/10\n",
            "9484/9484 [==============================] - 54s 6ms/step - loss: 0.0249 - accuracy: 0.9920 - val_loss: 0.0297 - val_accuracy: 0.9905\n",
            "Epoch 4/10\n",
            "9484/9484 [==============================] - 53s 6ms/step - loss: 0.0181 - accuracy: 0.9942 - val_loss: 2.1136 - val_accuracy: 0.7435\n",
            "Epoch 5/10\n",
            "9484/9484 [==============================] - 52s 5ms/step - loss: 0.0143 - accuracy: 0.9956 - val_loss: 0.1155 - val_accuracy: 0.9725\n",
            "Epoch 6/10\n",
            "9484/9484 [==============================] - 52s 5ms/step - loss: 0.0115 - accuracy: 0.9963 - val_loss: 0.0248 - val_accuracy: 0.9934\n",
            "Epoch 7/10\n",
            "9484/9484 [==============================] - 53s 6ms/step - loss: 0.0099 - accuracy: 0.9971 - val_loss: 0.0305 - val_accuracy: 0.9928\n",
            "Epoch 8/10\n",
            "9484/9484 [==============================] - 52s 5ms/step - loss: 0.0090 - accuracy: 0.9974 - val_loss: 0.0273 - val_accuracy: 0.9932\n",
            "Epoch 9/10\n",
            "9484/9484 [==============================] - 52s 5ms/step - loss: 0.0080 - accuracy: 0.9975 - val_loss: 0.0227 - val_accuracy: 0.9951\n",
            "Epoch 10/10\n",
            "9484/9484 [==============================] - 52s 5ms/step - loss: 0.0069 - accuracy: 0.9979 - val_loss: 0.2609 - val_accuracy: 0.9517\n"
          ],
          "name": "stdout"
        }
      ]
    },
    {
      "cell_type": "markdown",
      "metadata": {
        "id": "OvVz1nCxXt36",
        "colab_type": "text"
      },
      "source": [
        "Ploting the validation and training accuracy and loss "
      ]
    },
    {
      "cell_type": "code",
      "metadata": {
        "id": "Op2Exh3rk_oY",
        "colab_type": "code",
        "colab": {
          "base_uri": "https://localhost:8080/",
          "height": 573
        },
        "outputId": "843bfeae-33b1-46db-91d4-b958e4197963"
      },
      "source": [
        "fig1, ax_acc = plt.subplots()\n",
        "plt.plot(history.history['accuracy'])\n",
        "plt.plot(history.history['val_accuracy'])\n",
        "plt.xlabel('Epoch')\n",
        "plt.ylabel('Accuracy')\n",
        "plt.title('Model - Accuracy')\n",
        "plt.legend(['Training', 'Validation'], loc='lower right')\n",
        "plt.show()\n",
        "\n",
        "fig2, ax_loss = plt.subplots()\n",
        "plt.xlabel('Epoch')\n",
        "plt.ylabel('Loss')\n",
        "plt.title('Model- Loss')\n",
        "plt.legend(['Training', 'Validation'], loc='upper right')\n",
        "plt.plot(history.history['loss'])\n",
        "plt.plot(history.history['val_loss'])\n",
        "plt.show()"
      ],
      "execution_count": null,
      "outputs": [
        {
          "output_type": "display_data",
          "data": {
            "image/png": "[encoded data removed]",
            "text/plain": [
              "<Figure size 432x288 with 1 Axes>"
            ]
          },
          "metadata": {
            "tags": [],
            "needs_background": "light"
          }
        },
        {
          "output_type": "display_data",
          "data": {
            "image/png": "[encoded data removed]",
            "text/plain": [
              "<Figure size 432x288 with 1 Axes>"
            ]
          },
          "metadata": {
            "tags": [],
            "needs_background": "light"
          }
        }
      ]
    }
  ]
}